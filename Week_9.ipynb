{
  "nbformat": 4,
  "nbformat_minor": 0,
  "metadata": {
    "colab": {
      "provenance": [],
      "collapsed_sections": [],
      "authorship_tag": "ABX9TyOrA+aipWRfjFlXEqAf3Umr",
      "include_colab_link": true
    },
    "kernelspec": {
      "name": "python3",
      "display_name": "Python 3"
    },
    "language_info": {
      "name": "python"
    }
  },
  "cells": [
    {
      "cell_type": "markdown",
      "metadata": {
        "id": "view-in-github",
        "colab_type": "text"
      },
      "source": [
        "<a href=\"https://colab.research.google.com/github/AhmetA75/Task_9-A-B-C-D-E-F-/blob/main/Week_9.ipynb\" target=\"_parent\"><img src=\"https://colab.research.google.com/assets/colab-badge.svg\" alt=\"Open In Colab\"/></a>"
      ]
    },
    {
      "cell_type": "markdown",
      "source": [
        "\n",
        "TASK-9A: Please apply the following feature engineering steps on the numeric features of the AD dataset.\n",
        "\n",
        "-\tDivide by NACCBRNV (MRI)\n",
        "-\tMultiply by NACCAGEB\n",
        "\n",
        "\n"
      ],
      "metadata": {
        "id": "dEhtGRW9dy8t"
      }
    },
    {
      "cell_type": "code",
      "execution_count": 2,
      "metadata": {
        "id": "k46b1ZULjkhA"
      },
      "outputs": [],
      "source": [
        "import pandas as pd\n",
        "import numpy as np\n",
        "from sklearn.model_selection import train_test_split, GridSearchCV\n",
        "from sklearn.naive_bayes import GaussianNB                            \n",
        "from sklearn.metrics import accuracy_score\n",
        "from sklearn.linear_model import LinearRegression\n",
        "from sklearn.preprocessing import OneHotEncoder\n",
        "from time import time\n",
        "from sklearn.preprocessing import Normalizer"
      ]
    },
    {
      "cell_type": "code",
      "source": [
        "from sklearn.linear_model import RidgeClassifier\n",
        "from sklearn.datasets import load_iris\n",
        "from sklearn.datasets import make_classification\n",
        "from sklearn.model_selection import train_test_split\n",
        "from sklearn.model_selection import cross_val_score\n",
        "from sklearn.metrics import confusion_matrix\n",
        "from sklearn.metrics import classification_report"
      ],
      "metadata": {
        "id": "9T-BFQAEPvjE"
      },
      "execution_count": 5,
      "outputs": []
    },
    {
      "cell_type": "code",
      "source": [
        "import warnings as warn\n",
        "warn.filterwarnings(\"ignore\")"
      ],
      "metadata": {
        "id": "FHUTnSvxB8oi"
      },
      "execution_count": 6,
      "outputs": []
    },
    {
      "cell_type": "code",
      "source": [
        "data = pd.read_excel('Temporary_data3_Left_Right_Copy.xlsx')"
      ],
      "metadata": {
        "id": "gtdzWOuvj4Rn"
      },
      "execution_count": 7,
      "outputs": []
    },
    {
      "cell_type": "code",
      "source": [
        "data = data.replace((np.inf, -np.inf, np.nan), 0).reset_index(drop=True)\n",
        "\n"
      ],
      "metadata": {
        "id": "RonGMGtq2seG"
      },
      "execution_count": 8,
      "outputs": []
    },
    {
      "cell_type": "code",
      "source": [
        "y = pd.DataFrame(data['CDRGLOB'])\n"
      ],
      "metadata": {
        "id": "sL_U6A43ll-Y"
      },
      "execution_count": 9,
      "outputs": []
    },
    {
      "cell_type": "code",
      "source": [
        "X = pd.DataFrame(data['NACCAGEB'] / data[\"NACCBRNV\"] *  (data['NACCICV'] + data['NACCWMVL'] + data['CSFVOL'] + data['GRAYVOL'] + data['WHITEVOL'] + data['WMHVOL'] ))"
      ],
      "metadata": {
        "id": "nFN5AWcwpeeg"
      },
      "execution_count": 10,
      "outputs": []
    },
    {
      "cell_type": "markdown",
      "source": [
        "TASK-9B: Please apply Gaussian Naive Bayes algorithm on the numeric values (after the transformation) to predict the CDRGLOB values (class-based). Train-test split, train by grid search (k=5) and optimize for the parameter values"
      ],
      "metadata": {
        "id": "_28szZwUeANy"
      }
    },
    {
      "cell_type": "code",
      "source": [
        "x_train, x_test, y_train, y_test = train_test_split(X, y, test_size=0.2, stratify=y)"
      ],
      "metadata": {
        "id": "Km5-eVClpZWv"
      },
      "execution_count": 11,
      "outputs": []
    },
    {
      "cell_type": "code",
      "source": [
        "gauss = GaussianNB()                                               \n"
      ],
      "metadata": {
        "id": "LpPNcj69xnKU"
      },
      "execution_count": 12,
      "outputs": []
    },
    {
      "cell_type": "code",
      "source": [
        "gauss.fit(X=x_train, y=y_train)"
      ],
      "metadata": {
        "colab": {
          "base_uri": "https://localhost:8080/"
        },
        "id": "_S6X-F8pD2Q9",
        "outputId": "54a36e1b-c4df-4faf-f1d9-e50b5d0ac821"
      },
      "execution_count": 13,
      "outputs": [
        {
          "output_type": "execute_result",
          "data": {
            "text/plain": [
              "GaussianNB()"
            ]
          },
          "metadata": {},
          "execution_count": 13
        }
      ]
    },
    {
      "cell_type": "code",
      "source": [
        "print(f'TEST ACC DT ==> {gauss.score(x_test, y_test)}') #Algorithm fitted"
      ],
      "metadata": {
        "colab": {
          "base_uri": "https://localhost:8080/"
        },
        "id": "-bigSe69ETb0",
        "outputId": "124f7c95-7d09-4fb5-9955-2285aded7b43"
      },
      "execution_count": 14,
      "outputs": [
        {
          "output_type": "stream",
          "name": "stdout",
          "text": [
            "TEST ACC DT ==> 0.5166051660516605\n"
          ]
        }
      ]
    },
    {
      "cell_type": "code",
      "source": [
        "gauss_param = {'var_smoothing': [0.0000001] }\n",
        "                   \n",
        "                    \n",
        "                    "
      ],
      "metadata": {
        "id": "cq-rmDCDETZd"
      },
      "execution_count": 15,
      "outputs": []
    },
    {
      "cell_type": "code",
      "source": [
        "grid_gauss_5 = GridSearchCV(GaussianNB(), gauss_param, cv=5) # best algoihm fitted grid\n",
        "start = time() # For working time and tested by cv=5\n",
        "grid_gauss_5.fit(x_train, y_train)\n",
        "print(f'TIME FOR CV=5 ==> {time() - start}')\n",
        "print(f'BEST PARAMS FOR GRID Gauss CV = 5 ==> {grid_gauss_5.best_params_}')\n",
        "print(f'TEST ACC GRID Gauss CV = 5 ==> {grid_gauss_5.score(x_test, y_test)}')"
      ],
      "metadata": {
        "colab": {
          "base_uri": "https://localhost:8080/"
        },
        "id": "bOdDhFeDETU8",
        "outputId": "c8d66493-c64a-48a3-e4f2-1fed4f7bf9ca"
      },
      "execution_count": 16,
      "outputs": [
        {
          "output_type": "stream",
          "name": "stdout",
          "text": [
            "TIME FOR CV=5 ==> 0.036725521087646484\n",
            "BEST PARAMS FOR GRID Gauss CV = 5 ==> {'var_smoothing': 1e-07}\n",
            "TEST ACC GRID Gauss CV = 5 ==> 0.5166051660516605\n"
          ]
        }
      ]
    },
    {
      "cell_type": "markdown",
      "source": [
        "TASK-9C: Please apply a one-hot encoding method on the categorical data of the AD dataset."
      ],
      "metadata": {
        "id": "ERdUpsuBeL4I"
      }
    },
    {
      "cell_type": "code",
      "source": [
        "encoder = OneHotEncoder(handle_unknown='ignore')"
      ],
      "metadata": {
        "id": "R63ur6vzETNN"
      },
      "execution_count": 17,
      "outputs": []
    },
    {
      "cell_type": "code",
      "source": [
        "encoded_data = pd.DataFrame(encoder.fit_transform(data).toarray())\n",
        "encoded_data.head()"
      ],
      "metadata": {
        "colab": {
          "base_uri": "https://localhost:8080/",
          "height": 236
        },
        "id": "HXjWjcRNJWmr",
        "outputId": "27d5fae6-9a0d-462d-ca07-2ba2c3995b9d"
      },
      "execution_count": 18,
      "outputs": [
        {
          "output_type": "execute_result",
          "data": {
            "text/plain": [
              "   0       1       2       3       4       5       6       7       8       \\\n",
              "0     0.0     1.0     0.0     0.0     0.0     0.0     0.0     0.0     0.0   \n",
              "1     1.0     0.0     0.0     0.0     0.0     0.0     0.0     0.0     0.0   \n",
              "2     0.0     1.0     0.0     0.0     0.0     0.0     0.0     0.0     0.0   \n",
              "3     1.0     0.0     0.0     0.0     0.0     0.0     0.0     0.0     0.0   \n",
              "4     1.0     0.0     0.0     0.0     0.0     0.0     0.0     0.0     0.0   \n",
              "\n",
              "   9       ...  182112  182113  182114  182115  182116  182117  182118  \\\n",
              "0     0.0  ...     0.0     0.0     0.0     0.0     0.0     0.0     0.0   \n",
              "1     0.0  ...     0.0     0.0     0.0     0.0     0.0     0.0     0.0   \n",
              "2     0.0  ...     0.0     0.0     0.0     0.0     0.0     0.0     0.0   \n",
              "3     0.0  ...     0.0     0.0     0.0     0.0     0.0     0.0     0.0   \n",
              "4     0.0  ...     0.0     0.0     0.0     0.0     0.0     0.0     0.0   \n",
              "\n",
              "   182119  182120  182121  \n",
              "0     0.0     0.0     0.0  \n",
              "1     0.0     0.0     0.0  \n",
              "2     0.0     0.0     0.0  \n",
              "3     0.0     0.0     0.0  \n",
              "4     0.0     0.0     0.0  \n",
              "\n",
              "[5 rows x 182122 columns]"
            ],
            "text/html": [
              "\n",
              "  <div id=\"df-1c356ada-aa7d-426f-8e70-36c1e189eee6\">\n",
              "    <div class=\"colab-df-container\">\n",
              "      <div>\n",
              "<style scoped>\n",
              "    .dataframe tbody tr th:only-of-type {\n",
              "        vertical-align: middle;\n",
              "    }\n",
              "\n",
              "    .dataframe tbody tr th {\n",
              "        vertical-align: top;\n",
              "    }\n",
              "\n",
              "    .dataframe thead th {\n",
              "        text-align: right;\n",
              "    }\n",
              "</style>\n",
              "<table border=\"1\" class=\"dataframe\">\n",
              "  <thead>\n",
              "    <tr style=\"text-align: right;\">\n",
              "      <th></th>\n",
              "      <th>0</th>\n",
              "      <th>1</th>\n",
              "      <th>2</th>\n",
              "      <th>3</th>\n",
              "      <th>4</th>\n",
              "      <th>5</th>\n",
              "      <th>6</th>\n",
              "      <th>7</th>\n",
              "      <th>8</th>\n",
              "      <th>9</th>\n",
              "      <th>...</th>\n",
              "      <th>182112</th>\n",
              "      <th>182113</th>\n",
              "      <th>182114</th>\n",
              "      <th>182115</th>\n",
              "      <th>182116</th>\n",
              "      <th>182117</th>\n",
              "      <th>182118</th>\n",
              "      <th>182119</th>\n",
              "      <th>182120</th>\n",
              "      <th>182121</th>\n",
              "    </tr>\n",
              "  </thead>\n",
              "  <tbody>\n",
              "    <tr>\n",
              "      <th>0</th>\n",
              "      <td>0.0</td>\n",
              "      <td>1.0</td>\n",
              "      <td>0.0</td>\n",
              "      <td>0.0</td>\n",
              "      <td>0.0</td>\n",
              "      <td>0.0</td>\n",
              "      <td>0.0</td>\n",
              "      <td>0.0</td>\n",
              "      <td>0.0</td>\n",
              "      <td>0.0</td>\n",
              "      <td>...</td>\n",
              "      <td>0.0</td>\n",
              "      <td>0.0</td>\n",
              "      <td>0.0</td>\n",
              "      <td>0.0</td>\n",
              "      <td>0.0</td>\n",
              "      <td>0.0</td>\n",
              "      <td>0.0</td>\n",
              "      <td>0.0</td>\n",
              "      <td>0.0</td>\n",
              "      <td>0.0</td>\n",
              "    </tr>\n",
              "    <tr>\n",
              "      <th>1</th>\n",
              "      <td>1.0</td>\n",
              "      <td>0.0</td>\n",
              "      <td>0.0</td>\n",
              "      <td>0.0</td>\n",
              "      <td>0.0</td>\n",
              "      <td>0.0</td>\n",
              "      <td>0.0</td>\n",
              "      <td>0.0</td>\n",
              "      <td>0.0</td>\n",
              "      <td>0.0</td>\n",
              "      <td>...</td>\n",
              "      <td>0.0</td>\n",
              "      <td>0.0</td>\n",
              "      <td>0.0</td>\n",
              "      <td>0.0</td>\n",
              "      <td>0.0</td>\n",
              "      <td>0.0</td>\n",
              "      <td>0.0</td>\n",
              "      <td>0.0</td>\n",
              "      <td>0.0</td>\n",
              "      <td>0.0</td>\n",
              "    </tr>\n",
              "    <tr>\n",
              "      <th>2</th>\n",
              "      <td>0.0</td>\n",
              "      <td>1.0</td>\n",
              "      <td>0.0</td>\n",
              "      <td>0.0</td>\n",
              "      <td>0.0</td>\n",
              "      <td>0.0</td>\n",
              "      <td>0.0</td>\n",
              "      <td>0.0</td>\n",
              "      <td>0.0</td>\n",
              "      <td>0.0</td>\n",
              "      <td>...</td>\n",
              "      <td>0.0</td>\n",
              "      <td>0.0</td>\n",
              "      <td>0.0</td>\n",
              "      <td>0.0</td>\n",
              "      <td>0.0</td>\n",
              "      <td>0.0</td>\n",
              "      <td>0.0</td>\n",
              "      <td>0.0</td>\n",
              "      <td>0.0</td>\n",
              "      <td>0.0</td>\n",
              "    </tr>\n",
              "    <tr>\n",
              "      <th>3</th>\n",
              "      <td>1.0</td>\n",
              "      <td>0.0</td>\n",
              "      <td>0.0</td>\n",
              "      <td>0.0</td>\n",
              "      <td>0.0</td>\n",
              "      <td>0.0</td>\n",
              "      <td>0.0</td>\n",
              "      <td>0.0</td>\n",
              "      <td>0.0</td>\n",
              "      <td>0.0</td>\n",
              "      <td>...</td>\n",
              "      <td>0.0</td>\n",
              "      <td>0.0</td>\n",
              "      <td>0.0</td>\n",
              "      <td>0.0</td>\n",
              "      <td>0.0</td>\n",
              "      <td>0.0</td>\n",
              "      <td>0.0</td>\n",
              "      <td>0.0</td>\n",
              "      <td>0.0</td>\n",
              "      <td>0.0</td>\n",
              "    </tr>\n",
              "    <tr>\n",
              "      <th>4</th>\n",
              "      <td>1.0</td>\n",
              "      <td>0.0</td>\n",
              "      <td>0.0</td>\n",
              "      <td>0.0</td>\n",
              "      <td>0.0</td>\n",
              "      <td>0.0</td>\n",
              "      <td>0.0</td>\n",
              "      <td>0.0</td>\n",
              "      <td>0.0</td>\n",
              "      <td>0.0</td>\n",
              "      <td>...</td>\n",
              "      <td>0.0</td>\n",
              "      <td>0.0</td>\n",
              "      <td>0.0</td>\n",
              "      <td>0.0</td>\n",
              "      <td>0.0</td>\n",
              "      <td>0.0</td>\n",
              "      <td>0.0</td>\n",
              "      <td>0.0</td>\n",
              "      <td>0.0</td>\n",
              "      <td>0.0</td>\n",
              "    </tr>\n",
              "  </tbody>\n",
              "</table>\n",
              "<p>5 rows × 182122 columns</p>\n",
              "</div>\n",
              "      <button class=\"colab-df-convert\" onclick=\"convertToInteractive('df-1c356ada-aa7d-426f-8e70-36c1e189eee6')\"\n",
              "              title=\"Convert this dataframe to an interactive table.\"\n",
              "              style=\"display:none;\">\n",
              "        \n",
              "  <svg xmlns=\"http://www.w3.org/2000/svg\" height=\"24px\"viewBox=\"0 0 24 24\"\n",
              "       width=\"24px\">\n",
              "    <path d=\"M0 0h24v24H0V0z\" fill=\"none\"/>\n",
              "    <path d=\"M18.56 5.44l.94 2.06.94-2.06 2.06-.94-2.06-.94-.94-2.06-.94 2.06-2.06.94zm-11 1L8.5 8.5l.94-2.06 2.06-.94-2.06-.94L8.5 2.5l-.94 2.06-2.06.94zm10 10l.94 2.06.94-2.06 2.06-.94-2.06-.94-.94-2.06-.94 2.06-2.06.94z\"/><path d=\"M17.41 7.96l-1.37-1.37c-.4-.4-.92-.59-1.43-.59-.52 0-1.04.2-1.43.59L10.3 9.45l-7.72 7.72c-.78.78-.78 2.05 0 2.83L4 21.41c.39.39.9.59 1.41.59.51 0 1.02-.2 1.41-.59l7.78-7.78 2.81-2.81c.8-.78.8-2.07 0-2.86zM5.41 20L4 18.59l7.72-7.72 1.47 1.35L5.41 20z\"/>\n",
              "  </svg>\n",
              "      </button>\n",
              "      \n",
              "  <style>\n",
              "    .colab-df-container {\n",
              "      display:flex;\n",
              "      flex-wrap:wrap;\n",
              "      gap: 12px;\n",
              "    }\n",
              "\n",
              "    .colab-df-convert {\n",
              "      background-color: #E8F0FE;\n",
              "      border: none;\n",
              "      border-radius: 50%;\n",
              "      cursor: pointer;\n",
              "      display: none;\n",
              "      fill: #1967D2;\n",
              "      height: 32px;\n",
              "      padding: 0 0 0 0;\n",
              "      width: 32px;\n",
              "    }\n",
              "\n",
              "    .colab-df-convert:hover {\n",
              "      background-color: #E2EBFA;\n",
              "      box-shadow: 0px 1px 2px rgba(60, 64, 67, 0.3), 0px 1px 3px 1px rgba(60, 64, 67, 0.15);\n",
              "      fill: #174EA6;\n",
              "    }\n",
              "\n",
              "    [theme=dark] .colab-df-convert {\n",
              "      background-color: #3B4455;\n",
              "      fill: #D2E3FC;\n",
              "    }\n",
              "\n",
              "    [theme=dark] .colab-df-convert:hover {\n",
              "      background-color: #434B5C;\n",
              "      box-shadow: 0px 1px 3px 1px rgba(0, 0, 0, 0.15);\n",
              "      filter: drop-shadow(0px 1px 2px rgba(0, 0, 0, 0.3));\n",
              "      fill: #FFFFFF;\n",
              "    }\n",
              "  </style>\n",
              "\n",
              "      <script>\n",
              "        const buttonEl =\n",
              "          document.querySelector('#df-1c356ada-aa7d-426f-8e70-36c1e189eee6 button.colab-df-convert');\n",
              "        buttonEl.style.display =\n",
              "          google.colab.kernel.accessAllowed ? 'block' : 'none';\n",
              "\n",
              "        async function convertToInteractive(key) {\n",
              "          const element = document.querySelector('#df-1c356ada-aa7d-426f-8e70-36c1e189eee6');\n",
              "          const dataTable =\n",
              "            await google.colab.kernel.invokeFunction('convertToInteractive',\n",
              "                                                     [key], {});\n",
              "          if (!dataTable) return;\n",
              "\n",
              "          const docLinkHtml = 'Like what you see? Visit the ' +\n",
              "            '<a target=\"_blank\" href=https://colab.research.google.com/notebooks/data_table.ipynb>data table notebook</a>'\n",
              "            + ' to learn more about interactive tables.';\n",
              "          element.innerHTML = '';\n",
              "          dataTable['output_type'] = 'display_data';\n",
              "          await google.colab.output.renderOutput(dataTable, element);\n",
              "          const docLink = document.createElement('div');\n",
              "          docLink.innerHTML = docLinkHtml;\n",
              "          element.appendChild(docLink);\n",
              "        }\n",
              "      </script>\n",
              "    </div>\n",
              "  </div>\n",
              "  "
            ]
          },
          "metadata": {},
          "execution_count": 18
        }
      ]
    },
    {
      "cell_type": "markdown",
      "source": [
        "TASK–9D: Please apply Multinomial Naive Bayes algorithms on the one-hot encoded categorical data of the AD dataset and predict the labels (CDRGLOB)."
      ],
      "metadata": {
        "id": "X6ez_PhceYNt"
      }
    },
    {
      "cell_type": "code",
      "source": [
        "from sklearn.naive_bayes import MultinomialNB\n",
        "y_1=y\n",
        "X_1 = encoded_data"
      ],
      "metadata": {
        "id": "Nzw_n5s2Jjv6"
      },
      "execution_count": 19,
      "outputs": []
    },
    {
      "cell_type": "code",
      "source": [
        "model = MultinomialNB(alpha=0.01)\n",
        "model.fit(X_1, y_1)\n",
        "model.score(X_1, y_1)"
      ],
      "metadata": {
        "colab": {
          "base_uri": "https://localhost:8080/"
        },
        "id": "u6MS49lOOD0B",
        "outputId": "609b506e-612c-433f-fac5-e828aa646178"
      },
      "execution_count": 20,
      "outputs": [
        {
          "output_type": "execute_result",
          "data": {
            "text/plain": [
              "1.0"
            ]
          },
          "metadata": {},
          "execution_count": 20
        }
      ]
    },
    {
      "cell_type": "code",
      "source": [
        "data_copy = data.copy(deep=True)"
      ],
      "metadata": {
        "id": "-WP205l1VcmI"
      },
      "execution_count": 21,
      "outputs": []
    },
    {
      "cell_type": "code",
      "source": [
        "numeric_column_names = data.loc[:, data.dtypes == float].columns"
      ],
      "metadata": {
        "id": "33JTxhOnUvig"
      },
      "execution_count": 22,
      "outputs": []
    },
    {
      "cell_type": "code",
      "source": [
        "for column in numeric_column_names:\n",
        "    x = data[column].to_numpy()\n",
        "    normalizer = Normalizer().fit([x])\n",
        "    transformed_arr = normalizer.transform([x])\n",
        "    data_copy[column] = pd.Series(transformed_arr.ravel())"
      ],
      "metadata": {
        "id": "bFfHaxf3Uc0e"
      },
      "execution_count": 23,
      "outputs": []
    },
    {
      "cell_type": "code",
      "source": [
        "data_copy"
      ],
      "metadata": {
        "colab": {
          "base_uri": "https://localhost:8080/",
          "height": 468
        },
        "id": "NdSdIKvzWkwx",
        "outputId": "06fa19e3-2d9b-49e3-a6d5-f362047968b9"
      },
      "execution_count": 24,
      "outputs": [
        {
          "output_type": "execute_result",
          "data": {
            "text/plain": [
              "      SEX  EDUC  MARISTAT  INDEPEND  RESIDENC  NACCFAM  ANYMEDS  SMOKYRS  \\\n",
              "0       2    18         1         1         1        1        1        0   \n",
              "1       1    11         1         1         1        1        1        0   \n",
              "2       2    16         1         1         1        1        1       10   \n",
              "3       1    14         1         1         1        0        1        0   \n",
              "4       1    16         1         1         2        0        1       50   \n",
              "...   ...   ...       ...       ...       ...      ...      ...      ...   \n",
              "1349    1    20         1         1         1        1        1        0   \n",
              "1350    1    16         1         2         1        0        1        0   \n",
              "1351    2    14         2         1         1        1        1        0   \n",
              "1352    2    20         3         1         1        1        1       25   \n",
              "1353    2    14         1         1         1        1        1       10   \n",
              "\n",
              "      NACCTBI  DIABETES  ...    RSUPFR   RSUPFRM   RSUPPAR  RSUPPARM  \\\n",
              "0           0         0  ...  0.031383  0.027190  0.027330  0.031626   \n",
              "1           0         0  ...  0.032683  0.033011  0.024430  0.030299   \n",
              "2           0         1  ...  0.037114  0.031170  0.036156  0.028998   \n",
              "3           0         1  ...  0.035630  0.029575  0.025460  0.026953   \n",
              "4           0         0  ...  0.031562  0.023931  0.024067  0.019382   \n",
              "...       ...       ...  ...       ...       ...       ...       ...   \n",
              "1349        0         0  ...  0.027767  0.032554  0.027852  0.040359   \n",
              "1350        0         0  ...  0.027882  0.025762  0.027492  0.027613   \n",
              "1351        0         0  ...  0.026824  0.026016  0.032723  0.028440   \n",
              "1352        0         0  ...  0.035259  0.029820  0.028576  0.031600   \n",
              "1353        0         0  ...  0.024732  0.029575  0.026120  0.032716   \n",
              "\n",
              "       RSUPTEM  RSUPTEMM   RSUPMAR  RSUPMARM    RTRTEM   RTRTEMM  \n",
              "0     0.027310  0.022014  0.031257  0.025651  0.028320  0.022901  \n",
              "1     0.030270  0.029067  0.023023  0.028871  0.043883  0.038913  \n",
              "2     0.033016  0.026160  0.032017  0.028107  0.032117  0.028753  \n",
              "3     0.030738  0.020726  0.032904  0.027955  0.023531  0.021086  \n",
              "4     0.027211  0.020562  0.024019  0.022295  0.021108  0.016345  \n",
              "...        ...       ...       ...       ...       ...       ...  \n",
              "1349  0.028709  0.036438  0.029507  0.036023  0.021417  0.019687  \n",
              "1350  0.021946  0.024046  0.032313  0.031291  0.023108  0.015232  \n",
              "1351  0.025754  0.025149  0.030022  0.026580  0.037523  0.030479  \n",
              "1352  0.028012  0.026539  0.035215  0.032690  0.041657  0.029137  \n",
              "1353  0.028399  0.027803  0.031542  0.028413  0.026393  0.031629  \n",
              "\n",
              "[1354 rows x 186 columns]"
            ],
            "text/html": [
              "\n",
              "  <div id=\"df-8b9e4df4-0df8-4e3b-bcad-a7b59c941ccd\">\n",
              "    <div class=\"colab-df-container\">\n",
              "      <div>\n",
              "<style scoped>\n",
              "    .dataframe tbody tr th:only-of-type {\n",
              "        vertical-align: middle;\n",
              "    }\n",
              "\n",
              "    .dataframe tbody tr th {\n",
              "        vertical-align: top;\n",
              "    }\n",
              "\n",
              "    .dataframe thead th {\n",
              "        text-align: right;\n",
              "    }\n",
              "</style>\n",
              "<table border=\"1\" class=\"dataframe\">\n",
              "  <thead>\n",
              "    <tr style=\"text-align: right;\">\n",
              "      <th></th>\n",
              "      <th>SEX</th>\n",
              "      <th>EDUC</th>\n",
              "      <th>MARISTAT</th>\n",
              "      <th>INDEPEND</th>\n",
              "      <th>RESIDENC</th>\n",
              "      <th>NACCFAM</th>\n",
              "      <th>ANYMEDS</th>\n",
              "      <th>SMOKYRS</th>\n",
              "      <th>NACCTBI</th>\n",
              "      <th>DIABETES</th>\n",
              "      <th>...</th>\n",
              "      <th>RSUPFR</th>\n",
              "      <th>RSUPFRM</th>\n",
              "      <th>RSUPPAR</th>\n",
              "      <th>RSUPPARM</th>\n",
              "      <th>RSUPTEM</th>\n",
              "      <th>RSUPTEMM</th>\n",
              "      <th>RSUPMAR</th>\n",
              "      <th>RSUPMARM</th>\n",
              "      <th>RTRTEM</th>\n",
              "      <th>RTRTEMM</th>\n",
              "    </tr>\n",
              "  </thead>\n",
              "  <tbody>\n",
              "    <tr>\n",
              "      <th>0</th>\n",
              "      <td>2</td>\n",
              "      <td>18</td>\n",
              "      <td>1</td>\n",
              "      <td>1</td>\n",
              "      <td>1</td>\n",
              "      <td>1</td>\n",
              "      <td>1</td>\n",
              "      <td>0</td>\n",
              "      <td>0</td>\n",
              "      <td>0</td>\n",
              "      <td>...</td>\n",
              "      <td>0.031383</td>\n",
              "      <td>0.027190</td>\n",
              "      <td>0.027330</td>\n",
              "      <td>0.031626</td>\n",
              "      <td>0.027310</td>\n",
              "      <td>0.022014</td>\n",
              "      <td>0.031257</td>\n",
              "      <td>0.025651</td>\n",
              "      <td>0.028320</td>\n",
              "      <td>0.022901</td>\n",
              "    </tr>\n",
              "    <tr>\n",
              "      <th>1</th>\n",
              "      <td>1</td>\n",
              "      <td>11</td>\n",
              "      <td>1</td>\n",
              "      <td>1</td>\n",
              "      <td>1</td>\n",
              "      <td>1</td>\n",
              "      <td>1</td>\n",
              "      <td>0</td>\n",
              "      <td>0</td>\n",
              "      <td>0</td>\n",
              "      <td>...</td>\n",
              "      <td>0.032683</td>\n",
              "      <td>0.033011</td>\n",
              "      <td>0.024430</td>\n",
              "      <td>0.030299</td>\n",
              "      <td>0.030270</td>\n",
              "      <td>0.029067</td>\n",
              "      <td>0.023023</td>\n",
              "      <td>0.028871</td>\n",
              "      <td>0.043883</td>\n",
              "      <td>0.038913</td>\n",
              "    </tr>\n",
              "    <tr>\n",
              "      <th>2</th>\n",
              "      <td>2</td>\n",
              "      <td>16</td>\n",
              "      <td>1</td>\n",
              "      <td>1</td>\n",
              "      <td>1</td>\n",
              "      <td>1</td>\n",
              "      <td>1</td>\n",
              "      <td>10</td>\n",
              "      <td>0</td>\n",
              "      <td>1</td>\n",
              "      <td>...</td>\n",
              "      <td>0.037114</td>\n",
              "      <td>0.031170</td>\n",
              "      <td>0.036156</td>\n",
              "      <td>0.028998</td>\n",
              "      <td>0.033016</td>\n",
              "      <td>0.026160</td>\n",
              "      <td>0.032017</td>\n",
              "      <td>0.028107</td>\n",
              "      <td>0.032117</td>\n",
              "      <td>0.028753</td>\n",
              "    </tr>\n",
              "    <tr>\n",
              "      <th>3</th>\n",
              "      <td>1</td>\n",
              "      <td>14</td>\n",
              "      <td>1</td>\n",
              "      <td>1</td>\n",
              "      <td>1</td>\n",
              "      <td>0</td>\n",
              "      <td>1</td>\n",
              "      <td>0</td>\n",
              "      <td>0</td>\n",
              "      <td>1</td>\n",
              "      <td>...</td>\n",
              "      <td>0.035630</td>\n",
              "      <td>0.029575</td>\n",
              "      <td>0.025460</td>\n",
              "      <td>0.026953</td>\n",
              "      <td>0.030738</td>\n",
              "      <td>0.020726</td>\n",
              "      <td>0.032904</td>\n",
              "      <td>0.027955</td>\n",
              "      <td>0.023531</td>\n",
              "      <td>0.021086</td>\n",
              "    </tr>\n",
              "    <tr>\n",
              "      <th>4</th>\n",
              "      <td>1</td>\n",
              "      <td>16</td>\n",
              "      <td>1</td>\n",
              "      <td>1</td>\n",
              "      <td>2</td>\n",
              "      <td>0</td>\n",
              "      <td>1</td>\n",
              "      <td>50</td>\n",
              "      <td>0</td>\n",
              "      <td>0</td>\n",
              "      <td>...</td>\n",
              "      <td>0.031562</td>\n",
              "      <td>0.023931</td>\n",
              "      <td>0.024067</td>\n",
              "      <td>0.019382</td>\n",
              "      <td>0.027211</td>\n",
              "      <td>0.020562</td>\n",
              "      <td>0.024019</td>\n",
              "      <td>0.022295</td>\n",
              "      <td>0.021108</td>\n",
              "      <td>0.016345</td>\n",
              "    </tr>\n",
              "    <tr>\n",
              "      <th>...</th>\n",
              "      <td>...</td>\n",
              "      <td>...</td>\n",
              "      <td>...</td>\n",
              "      <td>...</td>\n",
              "      <td>...</td>\n",
              "      <td>...</td>\n",
              "      <td>...</td>\n",
              "      <td>...</td>\n",
              "      <td>...</td>\n",
              "      <td>...</td>\n",
              "      <td>...</td>\n",
              "      <td>...</td>\n",
              "      <td>...</td>\n",
              "      <td>...</td>\n",
              "      <td>...</td>\n",
              "      <td>...</td>\n",
              "      <td>...</td>\n",
              "      <td>...</td>\n",
              "      <td>...</td>\n",
              "      <td>...</td>\n",
              "      <td>...</td>\n",
              "    </tr>\n",
              "    <tr>\n",
              "      <th>1349</th>\n",
              "      <td>1</td>\n",
              "      <td>20</td>\n",
              "      <td>1</td>\n",
              "      <td>1</td>\n",
              "      <td>1</td>\n",
              "      <td>1</td>\n",
              "      <td>1</td>\n",
              "      <td>0</td>\n",
              "      <td>0</td>\n",
              "      <td>0</td>\n",
              "      <td>...</td>\n",
              "      <td>0.027767</td>\n",
              "      <td>0.032554</td>\n",
              "      <td>0.027852</td>\n",
              "      <td>0.040359</td>\n",
              "      <td>0.028709</td>\n",
              "      <td>0.036438</td>\n",
              "      <td>0.029507</td>\n",
              "      <td>0.036023</td>\n",
              "      <td>0.021417</td>\n",
              "      <td>0.019687</td>\n",
              "    </tr>\n",
              "    <tr>\n",
              "      <th>1350</th>\n",
              "      <td>1</td>\n",
              "      <td>16</td>\n",
              "      <td>1</td>\n",
              "      <td>2</td>\n",
              "      <td>1</td>\n",
              "      <td>0</td>\n",
              "      <td>1</td>\n",
              "      <td>0</td>\n",
              "      <td>0</td>\n",
              "      <td>0</td>\n",
              "      <td>...</td>\n",
              "      <td>0.027882</td>\n",
              "      <td>0.025762</td>\n",
              "      <td>0.027492</td>\n",
              "      <td>0.027613</td>\n",
              "      <td>0.021946</td>\n",
              "      <td>0.024046</td>\n",
              "      <td>0.032313</td>\n",
              "      <td>0.031291</td>\n",
              "      <td>0.023108</td>\n",
              "      <td>0.015232</td>\n",
              "    </tr>\n",
              "    <tr>\n",
              "      <th>1351</th>\n",
              "      <td>2</td>\n",
              "      <td>14</td>\n",
              "      <td>2</td>\n",
              "      <td>1</td>\n",
              "      <td>1</td>\n",
              "      <td>1</td>\n",
              "      <td>1</td>\n",
              "      <td>0</td>\n",
              "      <td>0</td>\n",
              "      <td>0</td>\n",
              "      <td>...</td>\n",
              "      <td>0.026824</td>\n",
              "      <td>0.026016</td>\n",
              "      <td>0.032723</td>\n",
              "      <td>0.028440</td>\n",
              "      <td>0.025754</td>\n",
              "      <td>0.025149</td>\n",
              "      <td>0.030022</td>\n",
              "      <td>0.026580</td>\n",
              "      <td>0.037523</td>\n",
              "      <td>0.030479</td>\n",
              "    </tr>\n",
              "    <tr>\n",
              "      <th>1352</th>\n",
              "      <td>2</td>\n",
              "      <td>20</td>\n",
              "      <td>3</td>\n",
              "      <td>1</td>\n",
              "      <td>1</td>\n",
              "      <td>1</td>\n",
              "      <td>1</td>\n",
              "      <td>25</td>\n",
              "      <td>0</td>\n",
              "      <td>0</td>\n",
              "      <td>...</td>\n",
              "      <td>0.035259</td>\n",
              "      <td>0.029820</td>\n",
              "      <td>0.028576</td>\n",
              "      <td>0.031600</td>\n",
              "      <td>0.028012</td>\n",
              "      <td>0.026539</td>\n",
              "      <td>0.035215</td>\n",
              "      <td>0.032690</td>\n",
              "      <td>0.041657</td>\n",
              "      <td>0.029137</td>\n",
              "    </tr>\n",
              "    <tr>\n",
              "      <th>1353</th>\n",
              "      <td>2</td>\n",
              "      <td>14</td>\n",
              "      <td>1</td>\n",
              "      <td>1</td>\n",
              "      <td>1</td>\n",
              "      <td>1</td>\n",
              "      <td>1</td>\n",
              "      <td>10</td>\n",
              "      <td>0</td>\n",
              "      <td>0</td>\n",
              "      <td>...</td>\n",
              "      <td>0.024732</td>\n",
              "      <td>0.029575</td>\n",
              "      <td>0.026120</td>\n",
              "      <td>0.032716</td>\n",
              "      <td>0.028399</td>\n",
              "      <td>0.027803</td>\n",
              "      <td>0.031542</td>\n",
              "      <td>0.028413</td>\n",
              "      <td>0.026393</td>\n",
              "      <td>0.031629</td>\n",
              "    </tr>\n",
              "  </tbody>\n",
              "</table>\n",
              "<p>1354 rows × 186 columns</p>\n",
              "</div>\n",
              "      <button class=\"colab-df-convert\" onclick=\"convertToInteractive('df-8b9e4df4-0df8-4e3b-bcad-a7b59c941ccd')\"\n",
              "              title=\"Convert this dataframe to an interactive table.\"\n",
              "              style=\"display:none;\">\n",
              "        \n",
              "  <svg xmlns=\"http://www.w3.org/2000/svg\" height=\"24px\"viewBox=\"0 0 24 24\"\n",
              "       width=\"24px\">\n",
              "    <path d=\"M0 0h24v24H0V0z\" fill=\"none\"/>\n",
              "    <path d=\"M18.56 5.44l.94 2.06.94-2.06 2.06-.94-2.06-.94-.94-2.06-.94 2.06-2.06.94zm-11 1L8.5 8.5l.94-2.06 2.06-.94-2.06-.94L8.5 2.5l-.94 2.06-2.06.94zm10 10l.94 2.06.94-2.06 2.06-.94-2.06-.94-.94-2.06-.94 2.06-2.06.94z\"/><path d=\"M17.41 7.96l-1.37-1.37c-.4-.4-.92-.59-1.43-.59-.52 0-1.04.2-1.43.59L10.3 9.45l-7.72 7.72c-.78.78-.78 2.05 0 2.83L4 21.41c.39.39.9.59 1.41.59.51 0 1.02-.2 1.41-.59l7.78-7.78 2.81-2.81c.8-.78.8-2.07 0-2.86zM5.41 20L4 18.59l7.72-7.72 1.47 1.35L5.41 20z\"/>\n",
              "  </svg>\n",
              "      </button>\n",
              "      \n",
              "  <style>\n",
              "    .colab-df-container {\n",
              "      display:flex;\n",
              "      flex-wrap:wrap;\n",
              "      gap: 12px;\n",
              "    }\n",
              "\n",
              "    .colab-df-convert {\n",
              "      background-color: #E8F0FE;\n",
              "      border: none;\n",
              "      border-radius: 50%;\n",
              "      cursor: pointer;\n",
              "      display: none;\n",
              "      fill: #1967D2;\n",
              "      height: 32px;\n",
              "      padding: 0 0 0 0;\n",
              "      width: 32px;\n",
              "    }\n",
              "\n",
              "    .colab-df-convert:hover {\n",
              "      background-color: #E2EBFA;\n",
              "      box-shadow: 0px 1px 2px rgba(60, 64, 67, 0.3), 0px 1px 3px 1px rgba(60, 64, 67, 0.15);\n",
              "      fill: #174EA6;\n",
              "    }\n",
              "\n",
              "    [theme=dark] .colab-df-convert {\n",
              "      background-color: #3B4455;\n",
              "      fill: #D2E3FC;\n",
              "    }\n",
              "\n",
              "    [theme=dark] .colab-df-convert:hover {\n",
              "      background-color: #434B5C;\n",
              "      box-shadow: 0px 1px 3px 1px rgba(0, 0, 0, 0.15);\n",
              "      filter: drop-shadow(0px 1px 2px rgba(0, 0, 0, 0.3));\n",
              "      fill: #FFFFFF;\n",
              "    }\n",
              "  </style>\n",
              "\n",
              "      <script>\n",
              "        const buttonEl =\n",
              "          document.querySelector('#df-8b9e4df4-0df8-4e3b-bcad-a7b59c941ccd button.colab-df-convert');\n",
              "        buttonEl.style.display =\n",
              "          google.colab.kernel.accessAllowed ? 'block' : 'none';\n",
              "\n",
              "        async function convertToInteractive(key) {\n",
              "          const element = document.querySelector('#df-8b9e4df4-0df8-4e3b-bcad-a7b59c941ccd');\n",
              "          const dataTable =\n",
              "            await google.colab.kernel.invokeFunction('convertToInteractive',\n",
              "                                                     [key], {});\n",
              "          if (!dataTable) return;\n",
              "\n",
              "          const docLinkHtml = 'Like what you see? Visit the ' +\n",
              "            '<a target=\"_blank\" href=https://colab.research.google.com/notebooks/data_table.ipynb>data table notebook</a>'\n",
              "            + ' to learn more about interactive tables.';\n",
              "          element.innerHTML = '';\n",
              "          dataTable['output_type'] = 'display_data';\n",
              "          await google.colab.output.renderOutput(dataTable, element);\n",
              "          const docLink = document.createElement('div');\n",
              "          docLink.innerHTML = docLinkHtml;\n",
              "          element.appendChild(docLink);\n",
              "        }\n",
              "      </script>\n",
              "    </div>\n",
              "  </div>\n",
              "  "
            ]
          },
          "metadata": {},
          "execution_count": 24
        }
      ]
    },
    {
      "cell_type": "markdown",
      "source": [
        "\n",
        "TASK-9E: Please merge the normalized numeric values and one-hot encoded categorical values and then apply the following regression methods (Linear, Ridge and Lasso) to predict the labels as numeric values. Please do not forget to optimize them and use R2 for scoring.\n"
      ],
      "metadata": {
        "id": "-WXdhkzCef6T"
      }
    },
    {
      "cell_type": "code",
      "source": [
        "con = pd.concat([data_copy, encoded_data], axis=\"columns\")"
      ],
      "metadata": {
        "id": "maEPqlYHJgOJ"
      },
      "execution_count": 25,
      "outputs": []
    },
    {
      "cell_type": "code",
      "source": [
        "model = LinearRegression().fit(con, data)"
      ],
      "metadata": {
        "id": "4jnoeSeBMV-w"
      },
      "execution_count": 24,
      "outputs": []
    },
    {
      "cell_type": "code",
      "source": [
        "r_sq = model.score(con,data)  #R2 function\n",
        "print(f\"coefficient of determination: {r_sq}\")\n"
      ],
      "metadata": {
        "colab": {
          "base_uri": "https://localhost:8080/"
        },
        "id": "bcMK_ZX4NBd2",
        "outputId": "0e1bd589-b787-4f75-eb80-5ab101854476"
      },
      "execution_count": 25,
      "outputs": [
        {
          "output_type": "stream",
          "name": "stdout",
          "text": [
            "coefficient of determination: 1.0\n"
          ]
        }
      ]
    },
    {
      "cell_type": "code",
      "source": [
        "print(f\"intercept: {model.intercept_}\")"
      ],
      "metadata": {
        "colab": {
          "base_uri": "https://localhost:8080/"
        },
        "id": "JsbXGfM5NBcN",
        "outputId": "0df54991-cab0-45ed-8d48-7fc0bbf5c4b9"
      },
      "execution_count": 26,
      "outputs": [
        {
          "output_type": "stream",
          "name": "stdout",
          "text": [
            "intercept: [ 1.66876702e+00  1.39689017e+00  1.23418855e+00  2.07262681e+00\n",
            "  6.68018345e-01  8.00870237e-01  7.25315730e-01  8.30531046e-02\n",
            "  2.44598290e-01  3.26185842e-01  5.02097343e-01 -2.87921579e-02\n",
            "  5.58996112e-01  2.54888412e-02  1.68363593e-01 -3.96965115e-02\n",
            "  1.26298938e+00  2.70978879e-01  1.76565892e-01  4.24530224e-01\n",
            "  4.87949742e-01  3.32481869e-01  1.02270883e-01  3.60073833e-01\n",
            "  3.38231939e-01  4.12437586e-01  4.04073115e-01  3.92050521e-01\n",
            "  4.65413473e-01  6.87861753e-02  2.53952156e-01  1.44115513e-02\n",
            " -1.25549660e+00  1.56460721e+00  3.43783630e+01  8.59791339e-01\n",
            "  5.27318564e-01  1.33256302e+03  1.17105965e+03  5.82660306e+02\n",
            "  1.83119993e+02  5.69232139e+02  5.99467694e+02 -1.63294339e+01\n",
            "  1.16472580e+03  1.00650223e+03  1.61007925e+02  4.69095832e+02\n",
            "  5.52029366e+02  3.18289672e+00  3.41525312e+00 -2.23712670e-01\n",
            "  5.70748471e-01 -3.08485540e-01  8.63711696e+01  8.62822400e+01\n",
            "  2.89026186e+01  3.13767474e+01  4.47763075e+01  4.73350492e+01\n",
            "  5.36957281e+01  5.43625698e+01  3.12862818e+00  2.29404454e+00\n",
            "  4.20243850e+00  1.08008051e+00  4.14737148e+00  1.27600033e+00\n",
            "  3.74859092e+00  2.77423307e+00  7.59516819e+00  1.59958084e+00\n",
            "  1.18646077e+01  1.56766313e+00  7.84300485e+00  1.76315044e+00\n",
            "  5.71540151e+00  2.50864610e+00  2.09027978e+00  1.57741392e+00\n",
            "  1.08665643e+01  1.34279387e+00  8.45941204e+00  2.17267561e+00\n",
            "  5.23619802e+00  1.73537436e+00  4.90318637e+00  2.05333707e+00\n",
            "  1.17081474e+01  1.98696093e+00  4.21253682e+00  1.64211490e+00\n",
            "  3.62119762e+00  1.40431115e+00  4.53277665e+00  1.62859004e+00\n",
            "  2.43432646e+00  1.89335046e+00  3.99296470e+00  1.90544972e+00\n",
            "  2.96718124e+00  1.46983945e+00  8.98642545e+00  1.03704876e+00\n",
            "  3.73817191e+00  1.63846996e+00  1.25711013e+01  1.31540339e+00\n",
            "  8.07926415e+00  1.36598019e+00  3.70682737e+00  2.40688064e+00\n",
            "  1.00944179e+01  1.62666664e+00  2.17273858e+01  1.72648505e+00\n",
            "  1.00616269e+01  1.21207493e+00  1.34745751e+01  1.80210020e+00\n",
            "  1.04460549e+01  1.40897884e+00  1.06070055e+00  1.54670439e+00\n",
            "  1.78147457e+00  2.13261094e+00  5.73854565e+00  1.29581700e+00\n",
            "  4.19865197e+00  1.41659772e+00  3.57912110e+00  2.82073709e+00\n",
            "  6.82800985e+00  1.99539178e+00  1.18057332e+01  1.72263386e+00\n",
            "  9.50862086e+00  2.11737791e+00  6.09642997e+00  2.68403786e+00\n",
            "  2.34452142e+00  1.60102971e+00  1.20649234e+01  1.81128899e+00\n",
            "  8.06761889e+00  1.76051311e+00  5.94123931e+00  1.71104873e+00\n",
            "  5.09156617e+00  2.00979003e+00  1.22167691e+01  2.03236526e+00\n",
            "  3.86085643e+00  1.45088672e+00  4.01319677e+00  1.81732918e+00\n",
            "  4.79680066e+00  1.61726839e+00  1.78367720e+00  1.92353600e+00\n",
            "  4.56340999e+00  1.84647203e+00  3.38843541e+00  1.71795544e+00\n",
            "  9.31687324e+00  1.12308538e+00  3.55627645e+00  1.66654178e+00\n",
            "  1.21006515e+01  1.54216748e+00  8.33556180e+00  1.27443394e+00\n",
            "  2.56282123e+00  2.26876414e+00  1.00325977e+01  1.55913927e+00\n",
            "  2.46565325e+01  1.81795784e+00  1.08363899e+01  1.29983688e+00\n",
            "  1.34857123e+01  1.91964765e+00  8.40082621e+00  1.57776257e+00\n",
            "  9.98555558e-01  1.48844815e+00]\n"
          ]
        }
      ]
    },
    {
      "cell_type": "code",
      "source": [
        "print(f\"coefficients: {model.coef_}\")"
      ],
      "metadata": {
        "colab": {
          "base_uri": "https://localhost:8080/"
        },
        "id": "fJRKtP63NysO",
        "outputId": "f07f3480-fb1d-4bb0-f8dd-5a0be4b78a48"
      },
      "execution_count": 27,
      "outputs": [
        {
          "output_type": "stream",
          "name": "stdout",
          "text": [
            "coefficients: [[ 1.64073025e-01 -5.16935210e-03 -5.11673583e-03 ...  4.48040862e-04\n",
            "  -5.24888997e-04  2.84644573e-04]\n",
            " [-2.89639557e-01  9.79076861e-01 -3.00381699e-02 ...  4.50970674e-04\n",
            "   6.05070302e-04 -4.10054349e-05]\n",
            " [-1.93731878e-01 -2.72061380e-03  8.21705170e-01 ...  1.66220602e-04\n",
            "   7.12517428e-04  4.31471903e-04]\n",
            " ...\n",
            " [ 7.25787758e-04  6.60872999e-03  2.37602022e-03 ... -9.78339920e-04\n",
            "   2.54740655e-03  5.18327451e-04]\n",
            " [-1.07179778e-02  7.43492680e-03  9.84782549e-04 ...  2.07089602e-03\n",
            "   6.06685579e-04  3.06792567e-03]\n",
            " [-1.83894158e-02  1.02326624e-02 -3.39124367e-03 ...  6.22565408e-03\n",
            "   6.16820280e-03  6.15567269e-03]]\n"
          ]
        }
      ]
    },
    {
      "cell_type": "markdown",
      "source": [
        "TASK-9F: Please find and apply the classification versions of the following algorithms (Linear, Ridge and Lasso) with the hyperparameter optimization."
      ],
      "metadata": {
        "id": "3ok-_wFGfZI_"
      }
    },
    {
      "cell_type": "code",
      "source": [
        "xtrain, xtest, ytrain, ytest = train_test_split(con, data, test_size=0.1)\n"
      ],
      "metadata": {
        "id": "0uc4VoWWOraH"
      },
      "execution_count": 27,
      "outputs": []
    },
    {
      "cell_type": "code",
      "source": [
        "\n",
        "\n"
      ],
      "metadata": {
        "id": "8mB5LQCYQv5w"
      },
      "execution_count": null,
      "outputs": []
    },
    {
      "cell_type": "code",
      "source": [
        "lr_params = {\"fit_intercept\": [False, False],\n",
        "             \"normalize\": [False, False],\n",
        "             \"n_jobs\": np.arange(0,2)}\n",
        "grid_lr = GridSearchCV(LinearRegression(), lr_params, cv=2)\n",
        "grid_lr.fit(xtrain, ytrain)\n",
        "print(\"LR Best Score\",grid_lr.best_score_)"
      ],
      "metadata": {
        "colab": {
          "base_uri": "https://localhost:8080/"
        },
        "id": "_g_W6-xXZK_3",
        "outputId": "97d885fd-92db-4c40-ca6f-10eeedddc05b"
      },
      "execution_count": 28,
      "outputs": [
        {
          "output_type": "stream",
          "name": "stdout",
          "text": [
            "LR Best Score 0.2591316552900662\n"
          ]
        }
      ]
    }
  ]
}